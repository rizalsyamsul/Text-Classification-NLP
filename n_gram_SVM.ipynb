{
  "cells": [
    {
      "cell_type": "code",
      "metadata": {
        "tags": [],
        "deepnote_to_be_reexecuted": false,
        "source_hash": "cd9e9692",
        "execution_start": 1639357511244,
        "execution_millis": 3625,
        "deepnote_output_heights": [
          null,
          21.1875
        ],
        "cell_id": "00000-39ef4a31-07de-4873-9ed7-8da2f8442bc1",
        "deepnote_cell_type": "code",
        "colab": {
          "base_uri": "https://localhost:8080/"
        },
        "id": "Vq8swEQbViJ1",
        "outputId": "5760f96b-c351-47f2-8ff8-4189327fde12"
      },
      "source": [
        "import re\n",
        "import numpy as np\n",
        "import pandas as pd\n",
        "import string\n",
        "import nltk\n",
        "nltk.download('punkt')\n",
        "nltk.download('stopwords')"
      ],
      "outputs": [
        {
          "output_type": "stream",
          "name": "stdout",
          "text": [
            "[nltk_data] Downloading package punkt to /root/nltk_data...\n",
            "[nltk_data]   Package punkt is already up-to-date!\n",
            "[nltk_data] Downloading package stopwords to /root/nltk_data...\n",
            "[nltk_data]   Package stopwords is already up-to-date!\n"
          ]
        },
        {
          "output_type": "execute_result",
          "data": {
            "text/plain": [
              "True"
            ]
          },
          "metadata": {},
          "execution_count": 1
        }
      ],
      "execution_count": null
    },
    {
      "cell_type": "code",
      "source": [
        "from google.colab import drive\n",
        "drive.mount('/content/drive')"
      ],
      "metadata": {
        "colab": {
          "base_uri": "https://localhost:8080/"
        },
        "id": "cL_lc3oHX4bj",
        "outputId": "932611f3-8951-4f1c-e7ec-677ad3272b06"
      },
      "execution_count": null,
      "outputs": [
        {
          "output_type": "stream",
          "name": "stdout",
          "text": [
            "Drive already mounted at /content/drive; to attempt to forcibly remount, call drive.mount(\"/content/drive\", force_remount=True).\n"
          ]
        }
      ]
    },
    {
      "cell_type": "code",
      "source": [
        "data = pd.read_csv('drive/My Drive/TUGAS AKHIR/DATASET/dataset movie review.csv')\n",
        "data = data.iloc[:10000]\n",
        "data.head()"
      ],
      "metadata": {
        "colab": {
          "base_uri": "https://localhost:8080/",
          "height": 206
        },
        "id": "keJKJvlsX2u1",
        "outputId": "d943b7c2-9574-4f8c-8872-76d1354b9381"
      },
      "execution_count": null,
      "outputs": [
        {
          "output_type": "execute_result",
          "data": {
            "text/html": [
              "<div>\n",
              "<style scoped>\n",
              "    .dataframe tbody tr th:only-of-type {\n",
              "        vertical-align: middle;\n",
              "    }\n",
              "\n",
              "    .dataframe tbody tr th {\n",
              "        vertical-align: top;\n",
              "    }\n",
              "\n",
              "    .dataframe thead th {\n",
              "        text-align: right;\n",
              "    }\n",
              "</style>\n",
              "<table border=\"1\" class=\"dataframe\">\n",
              "  <thead>\n",
              "    <tr style=\"text-align: right;\">\n",
              "      <th></th>\n",
              "      <th>review</th>\n",
              "      <th>sentiment</th>\n",
              "    </tr>\n",
              "  </thead>\n",
              "  <tbody>\n",
              "    <tr>\n",
              "      <th>0</th>\n",
              "      <td>One of the other reviewers has mentioned that ...</td>\n",
              "      <td>positive</td>\n",
              "    </tr>\n",
              "    <tr>\n",
              "      <th>1</th>\n",
              "      <td>A wonderful little production. &lt;br /&gt;&lt;br /&gt;The...</td>\n",
              "      <td>positive</td>\n",
              "    </tr>\n",
              "    <tr>\n",
              "      <th>2</th>\n",
              "      <td>I thought this was a wonderful way to spend ti...</td>\n",
              "      <td>positive</td>\n",
              "    </tr>\n",
              "    <tr>\n",
              "      <th>3</th>\n",
              "      <td>Basically there's a family where a little boy ...</td>\n",
              "      <td>negative</td>\n",
              "    </tr>\n",
              "    <tr>\n",
              "      <th>4</th>\n",
              "      <td>Petter Mattei's \"Love in the Time of Money\" is...</td>\n",
              "      <td>positive</td>\n",
              "    </tr>\n",
              "  </tbody>\n",
              "</table>\n",
              "</div>"
            ],
            "text/plain": [
              "                                              review sentiment\n",
              "0  One of the other reviewers has mentioned that ...  positive\n",
              "1  A wonderful little production. <br /><br />The...  positive\n",
              "2  I thought this was a wonderful way to spend ti...  positive\n",
              "3  Basically there's a family where a little boy ...  negative\n",
              "4  Petter Mattei's \"Love in the Time of Money\" is...  positive"
            ]
          },
          "metadata": {},
          "execution_count": 3
        }
      ]
    },
    {
      "cell_type": "code",
      "source": [
        "data['sentiment'].value_counts()"
      ],
      "metadata": {
        "colab": {
          "base_uri": "https://localhost:8080/"
        },
        "id": "YnOJ1wGhYEEP",
        "outputId": "9cd0b161-630b-4d53-d093-a4a2590ee9ce"
      },
      "execution_count": null,
      "outputs": [
        {
          "output_type": "execute_result",
          "data": {
            "text/plain": [
              "positive    5028\n",
              "negative    4972\n",
              "Name: sentiment, dtype: int64"
            ]
          },
          "metadata": {},
          "execution_count": 4
        }
      ]
    },
    {
      "cell_type": "markdown",
      "source": [
        "# Preprocessing"
      ],
      "metadata": {
        "tags": [],
        "is_collapsed": false,
        "cell_id": "00002-372efd85-e0c0-403a-8864-8ce404fc73cc",
        "deepnote_cell_type": "text-cell-h1",
        "id": "ti5xWx2RViKO"
      }
    },
    {
      "cell_type": "markdown",
      "source": [
        "## Drop NaN"
      ],
      "metadata": {
        "tags": [],
        "is_collapsed": false,
        "cell_id": "00003-57594b07-d4a1-4010-a831-6f62354235f4",
        "deepnote_cell_type": "text-cell-h2",
        "id": "FtkE7-vHViKa"
      }
    },
    {
      "cell_type": "code",
      "metadata": {
        "tags": [],
        "deepnote_to_be_reexecuted": false,
        "source_hash": "878de0e4",
        "execution_start": 1639357515249,
        "execution_millis": 20,
        "deepnote_output_heights": [
          59.5625
        ],
        "cell_id": "00004-34bac342-b446-4452-98d2-81cebedf43bd",
        "deepnote_cell_type": "code",
        "colab": {
          "base_uri": "https://localhost:8080/"
        },
        "id": "hWP_XCE6ViKc",
        "outputId": "308e82d8-8058-4ed9-9a02-9e1b19db4cc4"
      },
      "source": [
        "data.isna().sum()"
      ],
      "outputs": [
        {
          "output_type": "execute_result",
          "data": {
            "text/plain": [
              "review       0\n",
              "sentiment    0\n",
              "dtype: int64"
            ]
          },
          "metadata": {},
          "execution_count": 5
        }
      ],
      "execution_count": null
    },
    {
      "cell_type": "code",
      "metadata": {
        "tags": [],
        "deepnote_to_be_reexecuted": false,
        "source_hash": "f8d4fce3",
        "execution_start": 1639357515311,
        "execution_millis": 45,
        "deepnote_output_heights": [
          59.5625
        ],
        "cell_id": "00005-31f917c5-6868-4cfe-8b97-71f3104620a4",
        "deepnote_cell_type": "code",
        "colab": {
          "base_uri": "https://localhost:8080/"
        },
        "id": "ct93tRpZViKd",
        "outputId": "b29d3219-f587-4b5c-8b9b-b3a881aa5860"
      },
      "source": [
        "data = data.dropna()\n",
        "data.reset_index(drop=True, inplace=True)\n",
        "data.isnull().sum()"
      ],
      "outputs": [
        {
          "output_type": "execute_result",
          "data": {
            "text/plain": [
              "review       0\n",
              "sentiment    0\n",
              "dtype: int64"
            ]
          },
          "metadata": {},
          "execution_count": 6
        }
      ],
      "execution_count": null
    },
    {
      "cell_type": "markdown",
      "source": [
        "## Drop Duplicate"
      ],
      "metadata": {
        "tags": [],
        "is_collapsed": false,
        "cell_id": "00006-deaf0f35-8850-49b8-b986-e4ae5be3d917",
        "deepnote_cell_type": "text-cell-h2",
        "id": "UVUnnmPMViKf"
      }
    },
    {
      "cell_type": "code",
      "metadata": {
        "tags": [],
        "deepnote_to_be_reexecuted": false,
        "source_hash": "4c082b58",
        "execution_start": 1639357515355,
        "execution_millis": 101,
        "deepnote_output_heights": [
          21.1875
        ],
        "cell_id": "00007-5cbe6f3c-647c-4255-b0c2-1c087183170c",
        "deepnote_cell_type": "code",
        "colab": {
          "base_uri": "https://localhost:8080/"
        },
        "id": "RetUnIZtViKh",
        "outputId": "be44baff-8a83-4047-82d4-3616f9f460f5"
      },
      "source": [
        "data.duplicated().sum()\n"
      ],
      "outputs": [
        {
          "output_type": "execute_result",
          "data": {
            "text/plain": [
              "17"
            ]
          },
          "metadata": {},
          "execution_count": 7
        }
      ],
      "execution_count": null
    },
    {
      "cell_type": "code",
      "metadata": {
        "tags": [],
        "deepnote_to_be_reexecuted": false,
        "source_hash": "2a5489c8",
        "execution_start": 1639357515506,
        "execution_millis": 152,
        "deepnote_output_heights": [
          21.1875
        ],
        "cell_id": "00008-14a47ea8-1303-4065-a468-b06660e05278",
        "deepnote_cell_type": "code",
        "colab": {
          "base_uri": "https://localhost:8080/"
        },
        "id": "sF8DeS4YViKk",
        "outputId": "558b645e-9c0e-4598-f43e-94dfb946be5f"
      },
      "source": [
        "data = data.drop_duplicates()\n",
        "data.reset_index(drop=True, inplace=True)\n",
        "data.duplicated().sum()\n"
      ],
      "outputs": [
        {
          "output_type": "execute_result",
          "data": {
            "text/plain": [
              "0"
            ]
          },
          "metadata": {},
          "execution_count": 8
        }
      ],
      "execution_count": null
    },
    {
      "cell_type": "markdown",
      "source": [
        "## Cleaning"
      ],
      "metadata": {
        "tags": [],
        "is_collapsed": false,
        "cell_id": "00023-6c415bab-e200-441d-abe9-f56eb8508b60",
        "deepnote_cell_type": "text-cell-h2",
        "id": "-qByi02UViKt"
      }
    },
    {
      "cell_type": "code",
      "metadata": {
        "tags": [],
        "deepnote_to_be_reexecuted": false,
        "source_hash": "3287dd2a",
        "execution_start": 1639357515930,
        "execution_millis": 1,
        "cell_id": "00024-c5c60ab1-c4ed-4740-bbc6-564713cd1f25",
        "deepnote_cell_type": "code",
        "id": "oDJ3Pw88ViKu"
      },
      "source": [
        "stopwords = nltk.corpus.stopwords.words('english')\n",
        "ps = nltk.PorterStemmer()\n",
        "\n",
        "def clean_text(text):\n",
        "    text = \"\".join([c for c in text if c not in string.punctuation])\n",
        "    token = re.split('\\W+', text) #split kata\n",
        "    text = \" \".join([ps.stem(word) for word in token if word not in stopwords])\n",
        "    return text\n"
      ],
      "outputs": [],
      "execution_count": null
    },
    {
      "cell_type": "code",
      "metadata": {
        "tags": [],
        "deepnote_to_be_reexecuted": false,
        "source_hash": "7bf87aba",
        "execution_start": 1639357515931,
        "execution_millis": 155072,
        "cell_id": "00025-e1cc63b1-bdb8-4308-ae0f-464cd7c79fda",
        "deepnote_cell_type": "code",
        "colab": {
          "base_uri": "https://localhost:8080/",
          "height": 206
        },
        "id": "fGX3M20qViKw",
        "outputId": "219fb5e5-d18e-4ade-f082-bc8ccc55ebdd"
      },
      "source": [
        "data['review_clean'] = data['review'].apply(lambda x: clean_text(x))\n",
        "data.head()"
      ],
      "outputs": [
        {
          "output_type": "execute_result",
          "data": {
            "text/html": [
              "<div>\n",
              "<style scoped>\n",
              "    .dataframe tbody tr th:only-of-type {\n",
              "        vertical-align: middle;\n",
              "    }\n",
              "\n",
              "    .dataframe tbody tr th {\n",
              "        vertical-align: top;\n",
              "    }\n",
              "\n",
              "    .dataframe thead th {\n",
              "        text-align: right;\n",
              "    }\n",
              "</style>\n",
              "<table border=\"1\" class=\"dataframe\">\n",
              "  <thead>\n",
              "    <tr style=\"text-align: right;\">\n",
              "      <th></th>\n",
              "      <th>review</th>\n",
              "      <th>sentiment</th>\n",
              "      <th>review_clean</th>\n",
              "    </tr>\n",
              "  </thead>\n",
              "  <tbody>\n",
              "    <tr>\n",
              "      <th>0</th>\n",
              "      <td>One of the other reviewers has mentioned that ...</td>\n",
              "      <td>positive</td>\n",
              "      <td>one review mention watch 1 Oz episod youll hoo...</td>\n",
              "    </tr>\n",
              "    <tr>\n",
              "      <th>1</th>\n",
              "      <td>A wonderful little production. &lt;br /&gt;&lt;br /&gt;The...</td>\n",
              "      <td>positive</td>\n",
              "      <td>A wonder littl product br br the film techniqu...</td>\n",
              "    </tr>\n",
              "    <tr>\n",
              "      <th>2</th>\n",
              "      <td>I thought this was a wonderful way to spend ti...</td>\n",
              "      <td>positive</td>\n",
              "      <td>I thought wonder way spend time hot summer wee...</td>\n",
              "    </tr>\n",
              "    <tr>\n",
              "      <th>3</th>\n",
              "      <td>Basically there's a family where a little boy ...</td>\n",
              "      <td>negative</td>\n",
              "      <td>basic there famili littl boy jake think there ...</td>\n",
              "    </tr>\n",
              "    <tr>\n",
              "      <th>4</th>\n",
              "      <td>Petter Mattei's \"Love in the Time of Money\" is...</td>\n",
              "      <td>positive</td>\n",
              "      <td>petter mattei love time money visual stun film...</td>\n",
              "    </tr>\n",
              "  </tbody>\n",
              "</table>\n",
              "</div>"
            ],
            "text/plain": [
              "                                              review  ...                                       review_clean\n",
              "0  One of the other reviewers has mentioned that ...  ...  one review mention watch 1 Oz episod youll hoo...\n",
              "1  A wonderful little production. <br /><br />The...  ...  A wonder littl product br br the film techniqu...\n",
              "2  I thought this was a wonderful way to spend ti...  ...  I thought wonder way spend time hot summer wee...\n",
              "3  Basically there's a family where a little boy ...  ...  basic there famili littl boy jake think there ...\n",
              "4  Petter Mattei's \"Love in the Time of Money\" is...  ...  petter mattei love time money visual stun film...\n",
              "\n",
              "[5 rows x 3 columns]"
            ]
          },
          "metadata": {},
          "execution_count": 10
        }
      ],
      "execution_count": null
    },
    {
      "cell_type": "markdown",
      "source": [
        "# N-gram"
      ],
      "metadata": {
        "tags": [],
        "is_collapsed": false,
        "cell_id": "00026-dd52a330-9956-4101-8baf-9dfbac92bd6e",
        "deepnote_cell_type": "text-cell-h2",
        "id": "9pkiS5YVViKx"
      }
    },
    {
      "cell_type": "code",
      "metadata": {
        "tags": [],
        "deepnote_to_be_reexecuted": true,
        "source_hash": "9753c075",
        "execution_start": 1639355810295,
        "execution_millis": 17064,
        "cell_id": "00027-058e4f38-cc8f-44fe-8d92-677f3dabcc57",
        "deepnote_cell_type": "code",
        "colab": {
          "base_uri": "https://localhost:8080/"
        },
        "id": "Q1rSRZc3ViKx",
        "outputId": "f0722e54-7e4c-4a5f-b3e1-ca2c9074e5b4"
      },
      "source": [
        "from sklearn.feature_extraction.text import CountVectorizer\n",
        "cv = CountVectorizer(ngram_range=(1,2)) #unigram & bigram\n",
        "X = cv.fit_transform(data['review_clean'])\n",
        "print(X.shape)"
      ],
      "outputs": [
        {
          "output_type": "stream",
          "name": "stdout",
          "text": [
            "(9983, 831861)\n"
          ]
        }
      ],
      "execution_count": null
    },
    {
      "cell_type": "code",
      "metadata": {
        "tags": [],
        "deepnote_to_be_reexecuted": true,
        "source_hash": "2cb8d562",
        "execution_start": 1639355827409,
        "execution_millis": 1035,
        "cell_id": "00028-0be60720-d278-452b-b618-dbdedc4c70c8",
        "deepnote_cell_type": "code",
        "colab": {
          "base_uri": "https://localhost:8080/"
        },
        "id": "BW44Ea35ViKz",
        "outputId": "3f9b1e17-b4d3-4e2b-837e-af1498e364d3"
      },
      "source": [
        "from sklearn.feature_extraction.text import TfidfTransformer\n",
        "ti = TfidfTransformer()\n",
        "X_tf = ti.fit_transform(X)\n",
        "print(X_tf.shape)"
      ],
      "outputs": [
        {
          "output_type": "stream",
          "name": "stdout",
          "text": [
            "(9983, 831861)\n"
          ]
        }
      ],
      "execution_count": null
    },
    {
      "cell_type": "markdown",
      "source": [
        "# Split Data"
      ],
      "metadata": {
        "tags": [],
        "is_collapsed": false,
        "cell_id": "00029-e190ef93-e13e-4213-b323-094c89d106ca",
        "deepnote_cell_type": "text-cell-h2",
        "id": "4mquJBSDViK1"
      }
    },
    {
      "cell_type": "code",
      "metadata": {
        "tags": [],
        "deepnote_to_be_reexecuted": true,
        "source_hash": "d63d16c3",
        "execution_start": 1639355828449,
        "execution_millis": 29,
        "cell_id": "00030-95742740-b7a8-4d8a-a499-9a9a9d257d5d",
        "deepnote_cell_type": "code",
        "id": "EVCT9PFkViK2"
      },
      "source": [
        "from sklearn.model_selection import train_test_split\n",
        "X_Train, X_Test, Y_Train, Y_Test = train_test_split(X_tf, data['sentiment'], test_size = 0.25)"
      ],
      "outputs": [],
      "execution_count": null
    },
    {
      "cell_type": "markdown",
      "source": [
        "# Model"
      ],
      "metadata": {
        "tags": [],
        "is_collapsed": false,
        "cell_id": "00031-b14e5760-aedf-46aa-9f42-625d6e8477d0",
        "deepnote_cell_type": "text-cell-h2",
        "id": "M6jR6QnFViK3"
      }
    },
    {
      "cell_type": "code",
      "metadata": {
        "tags": [],
        "deepnote_to_be_reexecuted": true,
        "source_hash": "7a09899c",
        "execution_start": 1639355828486,
        "execution_millis": 760012,
        "deepnote_output_heights": [
          21.1875,
          270.625
        ],
        "cell_id": "00032-43cc8327-737e-49e4-8629-659a480f1f5d",
        "deepnote_cell_type": "code",
        "colab": {
          "base_uri": "https://localhost:8080/"
        },
        "id": "IR0C2oQhViK4",
        "outputId": "627ffa03-ac15-4ca4-f3a2-67115962e6fe"
      },
      "source": [
        "from datetime import datetime\n",
        "from sklearn.svm import SVC\n",
        "start= datetime.now()\n",
        "model = SVC()\n",
        "model.fit(X_Train,Y_Train)\n",
        "Y_pred = model.predict(X_Test)\n",
        "end = datetime.now()\n",
        "print('Waktu Running: {}'.format(end - start))"
      ],
      "outputs": [
        {
          "output_type": "stream",
          "name": "stdout",
          "text": [
            "Waktu Running: 0:02:24.266165\n"
          ]
        }
      ],
      "execution_count": null
    },
    {
      "cell_type": "code",
      "metadata": {
        "tags": [],
        "deepnote_to_be_reexecuted": true,
        "source_hash": "c4914ba7",
        "execution_start": 1639356633157,
        "execution_millis": 32,
        "cell_id": "00034-0085791e-c427-4f65-8a54-a79f35120630",
        "deepnote_cell_type": "code",
        "colab": {
          "base_uri": "https://localhost:8080/"
        },
        "id": "TFalzU2iViK7",
        "outputId": "98c34aa3-d37e-4995-ce47-797708762d50"
      },
      "source": [
        "from sklearn import metrics\n",
        "from sklearn.metrics import accuracy_score\n",
        "from sklearn.metrics import confusion_matrix\n",
        "from sklearn.metrics import classification_report\n",
        "print(\"Hasil Akurasi SVM:\", accuracy_score(Y_Test, Y_pred)*100, \"%\")\n",
        "print(\"Confusion Matrix\")\n",
        "print(confusion_matrix(Y_Test, Y_pred))\n",
        "print(\"Classification report\")\n",
        "print(classification_report(Y_Test, Y_pred))"
      ],
      "outputs": [
        {
          "output_type": "stream",
          "name": "stdout",
          "text": [
            "Hasil Akurasi SVM: 87.4198717948718 %\n",
            "Confusion Matrix\n",
            "[[1053  196]\n",
            " [ 118 1129]]\n",
            "Classification report\n",
            "              precision    recall  f1-score   support\n",
            "\n",
            "    negative       0.90      0.84      0.87      1249\n",
            "    positive       0.85      0.91      0.88      1247\n",
            "\n",
            "    accuracy                           0.87      2496\n",
            "   macro avg       0.88      0.87      0.87      2496\n",
            "weighted avg       0.88      0.87      0.87      2496\n",
            "\n"
          ]
        }
      ],
      "execution_count": null
    }
  ],
  "nbformat": 4,
  "nbformat_minor": 0,
  "metadata": {
    "orig_nbformat": 2,
    "deepnote": {
      "is_reactive": false
    },
    "deepnote_notebook_id": "da1e00f9-605c-4520-9210-77c8fa1b99d7",
    "deepnote_execution_queue": [
      {
        "cellId": "00025-e1cc63b1-bdb8-4308-ae0f-464cd7c79fda",
        "sessionId": "4f371328-70a8-472d-99f3-8443b336745e",
        "msgId": "2d2151a1-583b-43fe-a0c3-756241fca384"
      },
      {
        "cellId": "00027-058e4f38-cc8f-44fe-8d92-677f3dabcc57",
        "sessionId": "4f371328-70a8-472d-99f3-8443b336745e",
        "msgId": "084070dd-faa2-45dc-a98c-a993c25e527e"
      },
      {
        "cellId": "00028-0be60720-d278-452b-b618-dbdedc4c70c8",
        "sessionId": "4f371328-70a8-472d-99f3-8443b336745e",
        "msgId": "c5094f25-f120-447d-9005-80c14a484b29"
      },
      {
        "cellId": "00030-95742740-b7a8-4d8a-a499-9a9a9d257d5d",
        "sessionId": "4f371328-70a8-472d-99f3-8443b336745e",
        "msgId": "41f2fdfd-b7ee-4f06-91f5-89022e4e0bda"
      },
      {
        "cellId": "00032-43cc8327-737e-49e4-8629-659a480f1f5d",
        "sessionId": "4f371328-70a8-472d-99f3-8443b336745e",
        "msgId": "fe27de8d-3d26-4fa0-942a-abcd46efce1e"
      },
      {
        "cellId": "00034-0085791e-c427-4f65-8a54-a79f35120630",
        "sessionId": "4f371328-70a8-472d-99f3-8443b336745e",
        "msgId": "3d87b297-e32d-4fa9-b76b-749b0401094a"
      },
      {
        "cellId": "00035-26dffff5-b9ab-41e8-8408-f9677fdc6fe6",
        "sessionId": "4f371328-70a8-472d-99f3-8443b336745e",
        "msgId": "8565dcc1-b6dd-4528-abb7-b3769f499195"
      }
    ],
    "colab": {
      "name": "n-gram SVM.ipynb",
      "provenance": []
    },
    "language_info": {
      "name": "python"
    },
    "kernelspec": {
      "name": "python3",
      "display_name": "Python 3"
    }
  }
}