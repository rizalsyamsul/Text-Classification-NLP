{
  "cells": [
    {
      "cell_type": "code",
      "source": [
        "!pip install spacy\n",
        "!python -m spacy download en_core_web_lg"
      ],
      "metadata": {
        "tags": [],
        "cell_id": "00001-2496fe57-c442-4157-818b-d74005f256f8",
        "deepnote_to_be_reexecuted": false,
        "source_hash": "d54a86b7",
        "execution_start": 1639343266260,
        "execution_millis": 26803,
        "deepnote_cell_type": "code",
        "colab": {
          "base_uri": "https://localhost:8080/"
        },
        "id": "1O-nAO3IQNPY",
        "outputId": "2b9166e3-3004-4d55-e781-7707b1f293c6"
      },
      "outputs": [
        {
          "output_type": "stream",
          "name": "stdout",
          "text": [
            "Requirement already satisfied: spacy in /usr/local/lib/python3.7/dist-packages (2.2.4)\n",
            "Requirement already satisfied: murmurhash<1.1.0,>=0.28.0 in /usr/local/lib/python3.7/dist-packages (from spacy) (1.0.6)\n",
            "Requirement already satisfied: tqdm<5.0.0,>=4.38.0 in /usr/local/lib/python3.7/dist-packages (from spacy) (4.62.3)\n",
            "Requirement already satisfied: catalogue<1.1.0,>=0.0.7 in /usr/local/lib/python3.7/dist-packages (from spacy) (1.0.0)\n",
            "Requirement already satisfied: srsly<1.1.0,>=1.0.2 in /usr/local/lib/python3.7/dist-packages (from spacy) (1.0.5)\n",
            "Requirement already satisfied: preshed<3.1.0,>=3.0.2 in /usr/local/lib/python3.7/dist-packages (from spacy) (3.0.6)\n",
            "Requirement already satisfied: thinc==7.4.0 in /usr/local/lib/python3.7/dist-packages (from spacy) (7.4.0)\n",
            "Requirement already satisfied: blis<0.5.0,>=0.4.0 in /usr/local/lib/python3.7/dist-packages (from spacy) (0.4.1)\n",
            "Requirement already satisfied: wasabi<1.1.0,>=0.4.0 in /usr/local/lib/python3.7/dist-packages (from spacy) (0.8.2)\n",
            "Requirement already satisfied: setuptools in /usr/local/lib/python3.7/dist-packages (from spacy) (57.4.0)\n",
            "Requirement already satisfied: cymem<2.1.0,>=2.0.2 in /usr/local/lib/python3.7/dist-packages (from spacy) (2.0.6)\n",
            "Requirement already satisfied: plac<1.2.0,>=0.9.6 in /usr/local/lib/python3.7/dist-packages (from spacy) (1.1.3)\n",
            "Requirement already satisfied: requests<3.0.0,>=2.13.0 in /usr/local/lib/python3.7/dist-packages (from spacy) (2.23.0)\n",
            "Requirement already satisfied: numpy>=1.15.0 in /usr/local/lib/python3.7/dist-packages (from spacy) (1.19.5)\n",
            "Requirement already satisfied: importlib-metadata>=0.20 in /usr/local/lib/python3.7/dist-packages (from catalogue<1.1.0,>=0.0.7->spacy) (4.8.2)\n",
            "Requirement already satisfied: typing-extensions>=3.6.4 in /usr/local/lib/python3.7/dist-packages (from importlib-metadata>=0.20->catalogue<1.1.0,>=0.0.7->spacy) (3.10.0.2)\n",
            "Requirement already satisfied: zipp>=0.5 in /usr/local/lib/python3.7/dist-packages (from importlib-metadata>=0.20->catalogue<1.1.0,>=0.0.7->spacy) (3.6.0)\n",
            "Requirement already satisfied: chardet<4,>=3.0.2 in /usr/local/lib/python3.7/dist-packages (from requests<3.0.0,>=2.13.0->spacy) (3.0.4)\n",
            "Requirement already satisfied: urllib3!=1.25.0,!=1.25.1,<1.26,>=1.21.1 in /usr/local/lib/python3.7/dist-packages (from requests<3.0.0,>=2.13.0->spacy) (1.24.3)\n",
            "Requirement already satisfied: idna<3,>=2.5 in /usr/local/lib/python3.7/dist-packages (from requests<3.0.0,>=2.13.0->spacy) (2.10)\n",
            "Requirement already satisfied: certifi>=2017.4.17 in /usr/local/lib/python3.7/dist-packages (from requests<3.0.0,>=2.13.0->spacy) (2021.10.8)\n",
            "Collecting en_core_web_lg==2.2.5\n",
            "  Downloading https://github.com/explosion/spacy-models/releases/download/en_core_web_lg-2.2.5/en_core_web_lg-2.2.5.tar.gz (827.9 MB)\n",
            "\u001b[K     |████████████████████████████████| 827.9 MB 1.2 MB/s \n",
            "\u001b[?25hRequirement already satisfied: spacy>=2.2.2 in /usr/local/lib/python3.7/dist-packages (from en_core_web_lg==2.2.5) (2.2.4)\n",
            "Requirement already satisfied: thinc==7.4.0 in /usr/local/lib/python3.7/dist-packages (from spacy>=2.2.2->en_core_web_lg==2.2.5) (7.4.0)\n",
            "Requirement already satisfied: catalogue<1.1.0,>=0.0.7 in /usr/local/lib/python3.7/dist-packages (from spacy>=2.2.2->en_core_web_lg==2.2.5) (1.0.0)\n",
            "Requirement already satisfied: srsly<1.1.0,>=1.0.2 in /usr/local/lib/python3.7/dist-packages (from spacy>=2.2.2->en_core_web_lg==2.2.5) (1.0.5)\n",
            "Requirement already satisfied: blis<0.5.0,>=0.4.0 in /usr/local/lib/python3.7/dist-packages (from spacy>=2.2.2->en_core_web_lg==2.2.5) (0.4.1)\n",
            "Requirement already satisfied: preshed<3.1.0,>=3.0.2 in /usr/local/lib/python3.7/dist-packages (from spacy>=2.2.2->en_core_web_lg==2.2.5) (3.0.6)\n",
            "Requirement already satisfied: plac<1.2.0,>=0.9.6 in /usr/local/lib/python3.7/dist-packages (from spacy>=2.2.2->en_core_web_lg==2.2.5) (1.1.3)\n",
            "Requirement already satisfied: cymem<2.1.0,>=2.0.2 in /usr/local/lib/python3.7/dist-packages (from spacy>=2.2.2->en_core_web_lg==2.2.5) (2.0.6)\n",
            "Requirement already satisfied: requests<3.0.0,>=2.13.0 in /usr/local/lib/python3.7/dist-packages (from spacy>=2.2.2->en_core_web_lg==2.2.5) (2.23.0)\n",
            "Requirement already satisfied: numpy>=1.15.0 in /usr/local/lib/python3.7/dist-packages (from spacy>=2.2.2->en_core_web_lg==2.2.5) (1.19.5)\n",
            "Requirement already satisfied: setuptools in /usr/local/lib/python3.7/dist-packages (from spacy>=2.2.2->en_core_web_lg==2.2.5) (57.4.0)\n",
            "Requirement already satisfied: murmurhash<1.1.0,>=0.28.0 in /usr/local/lib/python3.7/dist-packages (from spacy>=2.2.2->en_core_web_lg==2.2.5) (1.0.6)\n",
            "Requirement already satisfied: wasabi<1.1.0,>=0.4.0 in /usr/local/lib/python3.7/dist-packages (from spacy>=2.2.2->en_core_web_lg==2.2.5) (0.8.2)\n",
            "Requirement already satisfied: tqdm<5.0.0,>=4.38.0 in /usr/local/lib/python3.7/dist-packages (from spacy>=2.2.2->en_core_web_lg==2.2.5) (4.62.3)\n",
            "Requirement already satisfied: importlib-metadata>=0.20 in /usr/local/lib/python3.7/dist-packages (from catalogue<1.1.0,>=0.0.7->spacy>=2.2.2->en_core_web_lg==2.2.5) (4.8.2)\n",
            "Requirement already satisfied: zipp>=0.5 in /usr/local/lib/python3.7/dist-packages (from importlib-metadata>=0.20->catalogue<1.1.0,>=0.0.7->spacy>=2.2.2->en_core_web_lg==2.2.5) (3.6.0)\n",
            "Requirement already satisfied: typing-extensions>=3.6.4 in /usr/local/lib/python3.7/dist-packages (from importlib-metadata>=0.20->catalogue<1.1.0,>=0.0.7->spacy>=2.2.2->en_core_web_lg==2.2.5) (3.10.0.2)\n",
            "Requirement already satisfied: idna<3,>=2.5 in /usr/local/lib/python3.7/dist-packages (from requests<3.0.0,>=2.13.0->spacy>=2.2.2->en_core_web_lg==2.2.5) (2.10)\n",
            "Requirement already satisfied: certifi>=2017.4.17 in /usr/local/lib/python3.7/dist-packages (from requests<3.0.0,>=2.13.0->spacy>=2.2.2->en_core_web_lg==2.2.5) (2021.10.8)\n",
            "Requirement already satisfied: chardet<4,>=3.0.2 in /usr/local/lib/python3.7/dist-packages (from requests<3.0.0,>=2.13.0->spacy>=2.2.2->en_core_web_lg==2.2.5) (3.0.4)\n",
            "Requirement already satisfied: urllib3!=1.25.0,!=1.25.1,<1.26,>=1.21.1 in /usr/local/lib/python3.7/dist-packages (from requests<3.0.0,>=2.13.0->spacy>=2.2.2->en_core_web_lg==2.2.5) (1.24.3)\n",
            "Building wheels for collected packages: en-core-web-lg\n",
            "  Building wheel for en-core-web-lg (setup.py) ... \u001b[?25l\u001b[?25hdone\n",
            "  Created wheel for en-core-web-lg: filename=en_core_web_lg-2.2.5-py3-none-any.whl size=829180942 sha256=2b615d28ef5f9043b43a7f4e8cad0e61e9dd3a6702322ba3d4682e25ada21c04\n",
            "  Stored in directory: /tmp/pip-ephem-wheel-cache-q3dhm5pz/wheels/11/95/ba/2c36cc368c0bd339b44a791c2c1881a1fb714b78c29a4cb8f5\n",
            "Successfully built en-core-web-lg\n",
            "Installing collected packages: en-core-web-lg\n",
            "Successfully installed en-core-web-lg-2.2.5\n",
            "\u001b[38;5;2m✔ Download and installation successful\u001b[0m\n",
            "You can now load the model via spacy.load('en_core_web_lg')\n"
          ]
        }
      ],
      "execution_count": null
    },
    {
      "cell_type": "code",
      "metadata": {
        "tags": [],
        "deepnote_to_be_reexecuted": false,
        "source_hash": "cd9e9692",
        "execution_start": 1639343293080,
        "execution_millis": 3062,
        "deepnote_output_heights": [
          null,
          21.1875
        ],
        "cell_id": "00000-bce16137-ebce-4a9c-935f-3e8050003499",
        "deepnote_cell_type": "code",
        "id": "sAsGvfQaQNPm"
      },
      "source": [
        "import re\n",
        "import numpy as np\n",
        "import pandas as pd\n",
        "import string\n",
        "import nltk"
      ],
      "outputs": [],
      "execution_count": null
    },
    {
      "cell_type": "code",
      "source": [
        "nltk.download('punkt')\n",
        "nltk.download('stopwords')"
      ],
      "metadata": {
        "colab": {
          "base_uri": "https://localhost:8080/"
        },
        "id": "j4OlwWO5R_hM",
        "outputId": "79bf498c-11d0-4dbb-a35b-61c5d828fb37"
      },
      "execution_count": null,
      "outputs": [
        {
          "output_type": "stream",
          "name": "stdout",
          "text": [
            "[nltk_data] Downloading package punkt to /root/nltk_data...\n",
            "[nltk_data]   Unzipping tokenizers/punkt.zip.\n",
            "[nltk_data] Downloading package stopwords to /root/nltk_data...\n",
            "[nltk_data]   Unzipping corpora/stopwords.zip.\n"
          ]
        },
        {
          "output_type": "execute_result",
          "data": {
            "text/plain": [
              "True"
            ]
          },
          "metadata": {},
          "execution_count": 6
        }
      ]
    },
    {
      "cell_type": "markdown",
      "source": [
        "## Data Exploration"
      ],
      "metadata": {
        "tags": [],
        "is_collapsed": false,
        "cell_id": "00003-b0da1e0c-3329-4bd3-aff1-34d452561386",
        "deepnote_cell_type": "text-cell-h2",
        "id": "u_FZYndAQNPp"
      }
    },
    {
      "cell_type": "code",
      "metadata": {
        "tags": [],
        "deepnote_to_be_reexecuted": false,
        "source_hash": "c76d9a82",
        "execution_start": 1639343310769,
        "execution_millis": 1272,
        "cell_id": "00001-e37481f2-d6bb-4b03-b860-b32d7949f1d0",
        "deepnote_cell_type": "code",
        "colab": {
          "base_uri": "https://localhost:8080/",
          "height": 206
        },
        "id": "1Kv_cA3HQNPz",
        "outputId": "79436c46-92be-48cb-f4d1-57e63a1b554b"
      },
      "source": [
        "data = pd.read_csv(\"tripadvisor_hotel_reviews.csv\")\n",
        "data.head()"
      ],
      "outputs": [
        {
          "output_type": "execute_result",
          "data": {
            "text/html": [
              "<div>\n",
              "<style scoped>\n",
              "    .dataframe tbody tr th:only-of-type {\n",
              "        vertical-align: middle;\n",
              "    }\n",
              "\n",
              "    .dataframe tbody tr th {\n",
              "        vertical-align: top;\n",
              "    }\n",
              "\n",
              "    .dataframe thead th {\n",
              "        text-align: right;\n",
              "    }\n",
              "</style>\n",
              "<table border=\"1\" class=\"dataframe\">\n",
              "  <thead>\n",
              "    <tr style=\"text-align: right;\">\n",
              "      <th></th>\n",
              "      <th>Review</th>\n",
              "      <th>Rating</th>\n",
              "    </tr>\n",
              "  </thead>\n",
              "  <tbody>\n",
              "    <tr>\n",
              "      <th>0</th>\n",
              "      <td>nice hotel expensive parking got good deal sta...</td>\n",
              "      <td>4</td>\n",
              "    </tr>\n",
              "    <tr>\n",
              "      <th>1</th>\n",
              "      <td>ok nothing special charge diamond member hilto...</td>\n",
              "      <td>2</td>\n",
              "    </tr>\n",
              "    <tr>\n",
              "      <th>2</th>\n",
              "      <td>nice rooms not 4* experience hotel monaco seat...</td>\n",
              "      <td>3</td>\n",
              "    </tr>\n",
              "    <tr>\n",
              "      <th>3</th>\n",
              "      <td>unique, great stay, wonderful time hotel monac...</td>\n",
              "      <td>5</td>\n",
              "    </tr>\n",
              "    <tr>\n",
              "      <th>4</th>\n",
              "      <td>great stay great stay, went seahawk game aweso...</td>\n",
              "      <td>5</td>\n",
              "    </tr>\n",
              "  </tbody>\n",
              "</table>\n",
              "</div>"
            ],
            "text/plain": [
              "                                              Review  Rating\n",
              "0  nice hotel expensive parking got good deal sta...       4\n",
              "1  ok nothing special charge diamond member hilto...       2\n",
              "2  nice rooms not 4* experience hotel monaco seat...       3\n",
              "3  unique, great stay, wonderful time hotel monac...       5\n",
              "4  great stay great stay, went seahawk game aweso...       5"
            ]
          },
          "metadata": {},
          "execution_count": 7
        }
      ],
      "execution_count": null
    },
    {
      "cell_type": "markdown",
      "source": [
        "# Preprocessing"
      ],
      "metadata": {
        "tags": [],
        "is_collapsed": false,
        "cell_id": "00002-c48db0ea-3447-4423-9094-8b53ca8a11d8",
        "deepnote_cell_type": "text-cell-h1",
        "id": "-pz63E6WQNP1"
      }
    },
    {
      "cell_type": "markdown",
      "source": [
        "## Drop NaN"
      ],
      "metadata": {
        "tags": [],
        "is_collapsed": false,
        "cell_id": "00003-b92b4eaa-ce9c-4384-aee4-d90d47e1fa89",
        "deepnote_cell_type": "text-cell-h2",
        "id": "kgrd61eNQNP2"
      }
    },
    {
      "cell_type": "code",
      "metadata": {
        "tags": [],
        "deepnote_to_be_reexecuted": false,
        "source_hash": "878de0e4",
        "execution_start": 1639343312057,
        "execution_millis": 17,
        "deepnote_output_heights": [
          59.5625
        ],
        "cell_id": "00004-340d6240-41e5-4e01-b849-08990cefb0b3",
        "deepnote_cell_type": "code",
        "colab": {
          "base_uri": "https://localhost:8080/"
        },
        "id": "sfBpwnBYQNP3",
        "outputId": "ed6d38b0-3d5e-48e2-d39d-c7616829b9d0"
      },
      "source": [
        "data.isnull().sum()"
      ],
      "outputs": [
        {
          "output_type": "execute_result",
          "data": {
            "text/plain": [
              "Review    0\n",
              "Rating    0\n",
              "dtype: int64"
            ]
          },
          "metadata": {},
          "execution_count": 8
        }
      ],
      "execution_count": null
    },
    {
      "cell_type": "code",
      "metadata": {
        "tags": [],
        "deepnote_to_be_reexecuted": false,
        "source_hash": "f8d4fce3",
        "execution_start": 1639343312096,
        "execution_millis": 32,
        "deepnote_output_heights": [
          59.5625
        ],
        "cell_id": "00005-0338cb9d-1bdf-4b92-8412-b1a0ec7f55ed",
        "deepnote_cell_type": "code",
        "id": "s7Wh3HRcQNP6",
        "outputId": "265ed7ff-9e2d-41a2-f86c-409742e385ec"
      },
      "source": [
        "data = data.dropna()\n",
        "data.reset_index(drop=True, inplace=True)\n",
        "data.isnull().sum()"
      ],
      "outputs": [
        {
          "output_type": "execute_result",
          "execution_count": 6,
          "data": {
            "text/plain": "review       0\nsentiment    0\ndtype: int64"
          },
          "metadata": {}
        }
      ],
      "execution_count": null
    },
    {
      "cell_type": "markdown",
      "source": [
        "## Drop Duplicate"
      ],
      "metadata": {
        "tags": [],
        "is_collapsed": false,
        "cell_id": "00006-2d06fb61-b0df-4214-8964-25265c5d1cc3",
        "deepnote_cell_type": "text-cell-h2",
        "id": "62x9uXX_QNQA"
      }
    },
    {
      "cell_type": "code",
      "metadata": {
        "tags": [],
        "deepnote_to_be_reexecuted": false,
        "source_hash": "4c082b58",
        "execution_start": 1639343312189,
        "execution_millis": 317,
        "deepnote_output_heights": [
          21.1875
        ],
        "cell_id": "00007-ce85b1af-1480-46f7-a5f4-36e328fbc693",
        "deepnote_cell_type": "code",
        "colab": {
          "base_uri": "https://localhost:8080/"
        },
        "id": "3GOLdXVEQNQF",
        "outputId": "d1a880af-3ec5-47ba-f5eb-b0ed2a02053c"
      },
      "source": [
        "data.duplicated().sum()\n"
      ],
      "outputs": [
        {
          "output_type": "execute_result",
          "data": {
            "text/plain": [
              "0"
            ]
          },
          "metadata": {},
          "execution_count": 9
        }
      ],
      "execution_count": null
    },
    {
      "cell_type": "code",
      "metadata": {
        "tags": [],
        "deepnote_to_be_reexecuted": false,
        "source_hash": "2a5489c8",
        "execution_start": 1639343312507,
        "execution_millis": 681,
        "deepnote_output_heights": [
          21.1875
        ],
        "cell_id": "00008-d31f5ebc-9895-44a3-afa8-149827b7df19",
        "deepnote_cell_type": "code",
        "id": "m3J4HfQhQNQG",
        "outputId": "86747878-3d2e-4ad3-e3ea-7b8e1da10688"
      },
      "source": [
        "data = data.drop_duplicates()\n",
        "data.reset_index(drop=True, inplace=True)\n",
        "data.duplicated().sum()\n"
      ],
      "outputs": [
        {
          "output_type": "execute_result",
          "execution_count": 8,
          "data": {
            "text/plain": "0"
          },
          "metadata": {}
        }
      ],
      "execution_count": null
    },
    {
      "cell_type": "markdown",
      "source": [
        "## Create Label"
      ],
      "metadata": {
        "tags": [],
        "is_collapsed": false,
        "cell_id": "00009-bac85964-4e41-4cb8-aaf7-8e5ff8ea3478",
        "deepnote_cell_type": "text-cell-h2",
        "id": "uM4fJ3tTQNQI"
      }
    },
    {
      "cell_type": "code",
      "source": [
        "def create_label(x):\n",
        "    if x >= 3:\n",
        "        return 1\n",
        "    elif x < 3:\n",
        "        return 0"
      ],
      "metadata": {
        "tags": [],
        "cell_id": "00014-1859d170-9c2e-4a91-8d47-17dd524c70a1",
        "deepnote_cell_type": "code",
        "id": "r56pJF53QNQK"
      },
      "outputs": [],
      "execution_count": null
    },
    {
      "cell_type": "code",
      "source": [
        "data['label'] = data['Rating'].apply(lambda x: create_label(x))\n",
        "data.head()"
      ],
      "metadata": {
        "colab": {
          "base_uri": "https://localhost:8080/",
          "height": 206
        },
        "id": "nigO4I14QbLl",
        "outputId": "a40e07cf-de6a-4136-e28c-b1139cf7c23e"
      },
      "execution_count": null,
      "outputs": [
        {
          "output_type": "execute_result",
          "data": {
            "text/html": [
              "<div>\n",
              "<style scoped>\n",
              "    .dataframe tbody tr th:only-of-type {\n",
              "        vertical-align: middle;\n",
              "    }\n",
              "\n",
              "    .dataframe tbody tr th {\n",
              "        vertical-align: top;\n",
              "    }\n",
              "\n",
              "    .dataframe thead th {\n",
              "        text-align: right;\n",
              "    }\n",
              "</style>\n",
              "<table border=\"1\" class=\"dataframe\">\n",
              "  <thead>\n",
              "    <tr style=\"text-align: right;\">\n",
              "      <th></th>\n",
              "      <th>Review</th>\n",
              "      <th>Rating</th>\n",
              "      <th>label</th>\n",
              "    </tr>\n",
              "  </thead>\n",
              "  <tbody>\n",
              "    <tr>\n",
              "      <th>0</th>\n",
              "      <td>nice hotel expensive parking got good deal sta...</td>\n",
              "      <td>4</td>\n",
              "      <td>1</td>\n",
              "    </tr>\n",
              "    <tr>\n",
              "      <th>1</th>\n",
              "      <td>ok nothing special charge diamond member hilto...</td>\n",
              "      <td>2</td>\n",
              "      <td>0</td>\n",
              "    </tr>\n",
              "    <tr>\n",
              "      <th>2</th>\n",
              "      <td>nice rooms not 4* experience hotel monaco seat...</td>\n",
              "      <td>3</td>\n",
              "      <td>1</td>\n",
              "    </tr>\n",
              "    <tr>\n",
              "      <th>3</th>\n",
              "      <td>unique, great stay, wonderful time hotel monac...</td>\n",
              "      <td>5</td>\n",
              "      <td>1</td>\n",
              "    </tr>\n",
              "    <tr>\n",
              "      <th>4</th>\n",
              "      <td>great stay great stay, went seahawk game aweso...</td>\n",
              "      <td>5</td>\n",
              "      <td>1</td>\n",
              "    </tr>\n",
              "  </tbody>\n",
              "</table>\n",
              "</div>"
            ],
            "text/plain": [
              "                                              Review  Rating  label\n",
              "0  nice hotel expensive parking got good deal sta...       4      1\n",
              "1  ok nothing special charge diamond member hilto...       2      0\n",
              "2  nice rooms not 4* experience hotel monaco seat...       3      1\n",
              "3  unique, great stay, wonderful time hotel monac...       5      1\n",
              "4  great stay great stay, went seahawk game aweso...       5      1"
            ]
          },
          "metadata": {},
          "execution_count": 11
        }
      ]
    },
    {
      "cell_type": "markdown",
      "source": [
        "## Cleaning\n"
      ],
      "metadata": {
        "tags": [],
        "is_collapsed": false,
        "cell_id": "00011-c6e01253-b9c1-4a5e-bfb2-3b38f0f121f8",
        "deepnote_cell_type": "text-cell-h2",
        "id": "D1f_XLFQQNQL"
      }
    },
    {
      "cell_type": "code",
      "metadata": {
        "tags": [],
        "deepnote_to_be_reexecuted": false,
        "source_hash": "3287dd2a",
        "execution_start": 1639343313622,
        "execution_millis": 35,
        "cell_id": "00012-e4036ebd-1eea-4e69-81e0-9beda5b8a88e",
        "deepnote_cell_type": "code",
        "id": "3wUKBAqsQNQR"
      },
      "source": [
        "stopwords = nltk.corpus.stopwords.words('english')\n",
        "ps = nltk.PorterStemmer()\n",
        "\n",
        "def clean_text(text):\n",
        "    text = \"\".join([c for c in text if c not in string.punctuation])\n",
        "    token = re.split('\\W+', text) #split kata\n",
        "    text = \" \".join([ps.stem(word) for word in token if word not in stopwords])\n",
        "    return text\n"
      ],
      "outputs": [],
      "execution_count": null
    },
    {
      "cell_type": "code",
      "metadata": {
        "tags": [],
        "deepnote_to_be_reexecuted": false,
        "source_hash": "1944c14d",
        "execution_start": 1639343313663,
        "execution_millis": 414758,
        "cell_id": "00013-7ca5b9e1-44f7-43e4-aa85-269bb4540625",
        "deepnote_cell_type": "code",
        "colab": {
          "base_uri": "https://localhost:8080/",
          "height": 206
        },
        "id": "Zkp0H5jSQNQT",
        "outputId": "f4fd6f1c-6799-41a9-c83e-e25653fe7db5"
      },
      "source": [
        "data['review_clean'] = data['Review'].apply(lambda x: clean_text(x))\n",
        "data.head()"
      ],
      "outputs": [
        {
          "output_type": "execute_result",
          "data": {
            "text/html": [
              "<div>\n",
              "<style scoped>\n",
              "    .dataframe tbody tr th:only-of-type {\n",
              "        vertical-align: middle;\n",
              "    }\n",
              "\n",
              "    .dataframe tbody tr th {\n",
              "        vertical-align: top;\n",
              "    }\n",
              "\n",
              "    .dataframe thead th {\n",
              "        text-align: right;\n",
              "    }\n",
              "</style>\n",
              "<table border=\"1\" class=\"dataframe\">\n",
              "  <thead>\n",
              "    <tr style=\"text-align: right;\">\n",
              "      <th></th>\n",
              "      <th>Review</th>\n",
              "      <th>Rating</th>\n",
              "      <th>label</th>\n",
              "      <th>review_clean</th>\n",
              "    </tr>\n",
              "  </thead>\n",
              "  <tbody>\n",
              "    <tr>\n",
              "      <th>0</th>\n",
              "      <td>nice hotel expensive parking got good deal sta...</td>\n",
              "      <td>4</td>\n",
              "      <td>1</td>\n",
              "      <td>nice hotel expens park got good deal stay hote...</td>\n",
              "    </tr>\n",
              "    <tr>\n",
              "      <th>1</th>\n",
              "      <td>ok nothing special charge diamond member hilto...</td>\n",
              "      <td>2</td>\n",
              "      <td>0</td>\n",
              "      <td>ok noth special charg diamond member hilton de...</td>\n",
              "    </tr>\n",
              "    <tr>\n",
              "      <th>2</th>\n",
              "      <td>nice rooms not 4* experience hotel monaco seat...</td>\n",
              "      <td>3</td>\n",
              "      <td>1</td>\n",
              "      <td>nice room 4 experi hotel monaco seattl good ho...</td>\n",
              "    </tr>\n",
              "    <tr>\n",
              "      <th>3</th>\n",
              "      <td>unique, great stay, wonderful time hotel monac...</td>\n",
              "      <td>5</td>\n",
              "      <td>1</td>\n",
              "      <td>uniqu great stay wonder time hotel monaco loca...</td>\n",
              "    </tr>\n",
              "    <tr>\n",
              "      <th>4</th>\n",
              "      <td>great stay great stay, went seahawk game aweso...</td>\n",
              "      <td>5</td>\n",
              "      <td>1</td>\n",
              "      <td>great stay great stay went seahawk game awesom...</td>\n",
              "    </tr>\n",
              "  </tbody>\n",
              "</table>\n",
              "</div>"
            ],
            "text/plain": [
              "                                              Review  ...                                       review_clean\n",
              "0  nice hotel expensive parking got good deal sta...  ...  nice hotel expens park got good deal stay hote...\n",
              "1  ok nothing special charge diamond member hilto...  ...  ok noth special charg diamond member hilton de...\n",
              "2  nice rooms not 4* experience hotel monaco seat...  ...  nice room 4 experi hotel monaco seattl good ho...\n",
              "3  unique, great stay, wonderful time hotel monac...  ...  uniqu great stay wonder time hotel monaco loca...\n",
              "4  great stay great stay, went seahawk game aweso...  ...  great stay great stay went seahawk game awesom...\n",
              "\n",
              "[5 rows x 4 columns]"
            ]
          },
          "metadata": {},
          "execution_count": 14
        }
      ],
      "execution_count": null
    },
    {
      "cell_type": "markdown",
      "source": [
        "# Neural Network"
      ],
      "metadata": {
        "tags": [],
        "is_collapsed": false,
        "cell_id": "00014-461be62a-5fd4-4a4e-927d-e796f76502fd",
        "deepnote_cell_type": "text-cell-h2",
        "id": "tqd34zoJQNQU"
      }
    },
    {
      "cell_type": "code",
      "source": [
        "import spacy\n",
        "import en_core_web_lg\n",
        "nlp = en_core_web_lg.load()"
      ],
      "metadata": {
        "tags": [],
        "cell_id": "00002-499acf12-a97b-46e0-846d-40d5d911fb64",
        "deepnote_to_be_reexecuted": false,
        "source_hash": "7517d8e4",
        "execution_start": 1639343296143,
        "execution_millis": 14618,
        "deepnote_cell_type": "code",
        "id": "kc3aGIt5QNPo"
      },
      "outputs": [],
      "execution_count": null
    },
    {
      "cell_type": "code",
      "source": [
        "def get_vec(x):\n",
        "  doc = nlp(x)\n",
        "  vec = doc.vector\n",
        "  return vec"
      ],
      "metadata": {
        "tags": [],
        "cell_id": "00015-69b25c67-b3ee-4824-aa46-4b219d554d71",
        "deepnote_to_be_reexecuted": false,
        "source_hash": "573b31eb",
        "execution_start": 1639343728420,
        "execution_millis": 0,
        "deepnote_cell_type": "code",
        "id": "Cd3m--aYQNQV"
      },
      "outputs": [],
      "execution_count": null
    },
    {
      "cell_type": "code",
      "source": [
        "data['vec'] = data['review_clean'].apply(lambda x: get_vec(x))\n",
        "data.head()"
      ],
      "metadata": {
        "tags": [],
        "cell_id": "00019-cb6a7baa-4fa8-495c-84bf-c3a3a1206702",
        "deepnote_to_be_reexecuted": false,
        "source_hash": "8c108047",
        "execution_start": 1639343728422,
        "execution_millis": 1757851,
        "deepnote_cell_type": "code",
        "colab": {
          "base_uri": "https://localhost:8080/",
          "height": 206
        },
        "id": "HJ6UCvwtQNQW",
        "outputId": "e1416b31-d8d0-43f1-a578-f2bc07c2bc69"
      },
      "outputs": [
        {
          "output_type": "execute_result",
          "data": {
            "text/html": [
              "<div>\n",
              "<style scoped>\n",
              "    .dataframe tbody tr th:only-of-type {\n",
              "        vertical-align: middle;\n",
              "    }\n",
              "\n",
              "    .dataframe tbody tr th {\n",
              "        vertical-align: top;\n",
              "    }\n",
              "\n",
              "    .dataframe thead th {\n",
              "        text-align: right;\n",
              "    }\n",
              "</style>\n",
              "<table border=\"1\" class=\"dataframe\">\n",
              "  <thead>\n",
              "    <tr style=\"text-align: right;\">\n",
              "      <th></th>\n",
              "      <th>Review</th>\n",
              "      <th>Rating</th>\n",
              "      <th>label</th>\n",
              "      <th>review_clean</th>\n",
              "      <th>vec</th>\n",
              "    </tr>\n",
              "  </thead>\n",
              "  <tbody>\n",
              "    <tr>\n",
              "      <th>0</th>\n",
              "      <td>nice hotel expensive parking got good deal sta...</td>\n",
              "      <td>4</td>\n",
              "      <td>1</td>\n",
              "      <td>nice hotel expens park got good deal stay hote...</td>\n",
              "      <td>[0.08455361, 0.12279382, -0.11445145, -0.13207...</td>\n",
              "    </tr>\n",
              "    <tr>\n",
              "      <th>1</th>\n",
              "      <td>ok nothing special charge diamond member hilto...</td>\n",
              "      <td>2</td>\n",
              "      <td>0</td>\n",
              "      <td>ok noth special charg diamond member hilton de...</td>\n",
              "      <td>[0.01376342, 0.11431644, -0.08469456, -0.08688...</td>\n",
              "    </tr>\n",
              "    <tr>\n",
              "      <th>2</th>\n",
              "      <td>nice rooms not 4* experience hotel monaco seat...</td>\n",
              "      <td>3</td>\n",
              "      <td>1</td>\n",
              "      <td>nice room 4 experi hotel monaco seattl good ho...</td>\n",
              "      <td>[0.112627976, 0.09836831, -0.00865985, -0.1204...</td>\n",
              "    </tr>\n",
              "    <tr>\n",
              "      <th>3</th>\n",
              "      <td>unique, great stay, wonderful time hotel monac...</td>\n",
              "      <td>5</td>\n",
              "      <td>1</td>\n",
              "      <td>uniqu great stay wonder time hotel monaco loca...</td>\n",
              "      <td>[0.08088346, 0.07656127, -0.0533279, -0.135253...</td>\n",
              "    </tr>\n",
              "    <tr>\n",
              "      <th>4</th>\n",
              "      <td>great stay great stay, went seahawk game aweso...</td>\n",
              "      <td>5</td>\n",
              "      <td>1</td>\n",
              "      <td>great stay great stay went seahawk game awesom...</td>\n",
              "      <td>[0.010666103, 0.02413493, -0.067824185, -0.111...</td>\n",
              "    </tr>\n",
              "  </tbody>\n",
              "</table>\n",
              "</div>"
            ],
            "text/plain": [
              "                                              Review  ...                                                vec\n",
              "0  nice hotel expensive parking got good deal sta...  ...  [0.08455361, 0.12279382, -0.11445145, -0.13207...\n",
              "1  ok nothing special charge diamond member hilto...  ...  [0.01376342, 0.11431644, -0.08469456, -0.08688...\n",
              "2  nice rooms not 4* experience hotel monaco seat...  ...  [0.112627976, 0.09836831, -0.00865985, -0.1204...\n",
              "3  unique, great stay, wonderful time hotel monac...  ...  [0.08088346, 0.07656127, -0.0533279, -0.135253...\n",
              "4  great stay great stay, went seahawk game aweso...  ...  [0.010666103, 0.02413493, -0.067824185, -0.111...\n",
              "\n",
              "[5 rows x 5 columns]"
            ]
          },
          "metadata": {},
          "execution_count": 16
        }
      ],
      "execution_count": null
    },
    {
      "cell_type": "code",
      "source": [
        "X = data['vec'].to_numpy()\n",
        "X = X.reshape(-1, 1)"
      ],
      "metadata": {
        "tags": [],
        "cell_id": "00020-30edcde8-27c7-4491-a034-a16e2a497c93",
        "deepnote_to_be_reexecuted": false,
        "source_hash": "9b1068cf",
        "execution_start": 1639345486320,
        "execution_millis": 3317605,
        "deepnote_cell_type": "code",
        "id": "9E-nbWuhQNQX"
      },
      "outputs": [],
      "execution_count": null
    },
    {
      "cell_type": "code",
      "source": [
        "X = np.concatenate(np.concatenate(X, axis = 0), axis = 0).reshape(-1, 300)\n",
        "X.shape"
      ],
      "metadata": {
        "tags": [],
        "cell_id": "00021-e55fc675-85fa-47ec-a9f5-88b06ca0e329",
        "deepnote_to_be_reexecuted": false,
        "source_hash": "cf8aefa0",
        "execution_start": 1639345486320,
        "execution_millis": 74,
        "deepnote_output_heights": [
          21.1875
        ],
        "deepnote_cell_type": "code",
        "colab": {
          "base_uri": "https://localhost:8080/"
        },
        "id": "aUxfGT_kQNQY",
        "outputId": "8f570755-7303-4a5d-9f12-5adbace293f8"
      },
      "outputs": [
        {
          "output_type": "execute_result",
          "data": {
            "text/plain": [
              "(20491, 300)"
            ]
          },
          "metadata": {},
          "execution_count": 18
        }
      ],
      "execution_count": null
    },
    {
      "cell_type": "markdown",
      "source": [
        "# Split Data"
      ],
      "metadata": {
        "tags": [],
        "is_collapsed": false,
        "cell_id": "00017-438b3ff5-311e-4a65-b413-b0285500ce50",
        "deepnote_cell_type": "text-cell-h2",
        "id": "kOJosSKRQNQa"
      }
    },
    {
      "cell_type": "code",
      "metadata": {
        "tags": [],
        "deepnote_to_be_reexecuted": false,
        "source_hash": "1a343ee1",
        "execution_start": 1639345486410,
        "execution_millis": 3,
        "cell_id": "00018-972972a5-6a62-4e1f-8e55-e75fb8d2c0fe",
        "deepnote_cell_type": "code",
        "id": "F2Y4Kq5vQNQa"
      },
      "source": [
        "from sklearn.model_selection import train_test_split\n",
        "X_Train, X_Test, Y_Train, Y_Test = train_test_split(X, data['label'], test_size = 0.2)"
      ],
      "outputs": [],
      "execution_count": null
    },
    {
      "cell_type": "markdown",
      "source": [
        "# Model"
      ],
      "metadata": {
        "tags": [],
        "is_collapsed": false,
        "cell_id": "00019-0da6a372-ad1d-4e2d-a872-9a571a701b1c",
        "deepnote_cell_type": "text-cell-h2",
        "id": "JutPcqINQNQc"
      }
    },
    {
      "cell_type": "markdown",
      "source": [
        "## Gaussian NB"
      ],
      "metadata": {
        "id": "BRQUpJiSQyYr"
      }
    },
    {
      "cell_type": "code",
      "metadata": {
        "tags": [],
        "deepnote_to_be_reexecuted": false,
        "source_hash": "191ffe28",
        "execution_start": 1639345486491,
        "execution_millis": 150,
        "deepnote_output_heights": [
          40.375
        ],
        "cell_id": "00020-acc6e1f2-2bf4-4052-81ec-1a49f230e54e",
        "deepnote_cell_type": "code",
        "colab": {
          "base_uri": "https://localhost:8080/"
        },
        "id": "xKasdwHsQNQh",
        "outputId": "88ae1426-1d66-45f9-e31b-daa6d58e6d7e"
      },
      "source": [
        "from sklearn.naive_bayes import GaussianNB\n",
        "model = GaussianNB()\n",
        "model.fit(X_Train, Y_Train)\n",
        "Y_pred = model.predict(X_Test)\n",
        "Y_pred"
      ],
      "outputs": [
        {
          "output_type": "execute_result",
          "data": {
            "text/plain": [
              "array([1, 1, 1, ..., 0, 0, 1])"
            ]
          },
          "metadata": {},
          "execution_count": 20
        }
      ],
      "execution_count": null
    },
    {
      "cell_type": "code",
      "metadata": {
        "tags": [],
        "deepnote_to_be_reexecuted": false,
        "source_hash": "b91be2a",
        "execution_start": 1639345486640,
        "execution_millis": 405,
        "cell_id": "00022-43190165-136b-41a8-88e8-7b3c518a5633",
        "deepnote_cell_type": "code",
        "colab": {
          "base_uri": "https://localhost:8080/"
        },
        "id": "Ki5lxFTeQNQj",
        "outputId": "7bc1f733-ca42-439e-d41d-d8cc04e1b2f9"
      },
      "source": [
        "from sklearn import metrics\n",
        "from sklearn.metrics import accuracy_score\n",
        "from sklearn.metrics import confusion_matrix\n",
        "from sklearn.metrics import classification_report\n",
        "print(\"Hasil Akurasi Gaussian Naive Bayes:\", accuracy_score(Y_Test, Y_pred)*100, \"%\")\n",
        "print(\"Confusion Matrix\")\n",
        "print(confusion_matrix(Y_Test, Y_pred))\n",
        "print(\"Classification report\")\n",
        "print(classification_report(Y_Test, Y_pred))"
      ],
      "outputs": [
        {
          "output_type": "stream",
          "name": "stdout",
          "text": [
            "Hasil Akurasi Gaussian Naive Bayes: 78.16540619663333 %\n",
            "Confusion Matrix\n",
            "[[ 521  105]\n",
            " [ 790 2683]]\n",
            "Classification report\n",
            "              precision    recall  f1-score   support\n",
            "\n",
            "           0       0.40      0.83      0.54       626\n",
            "           1       0.96      0.77      0.86      3473\n",
            "\n",
            "    accuracy                           0.78      4099\n",
            "   macro avg       0.68      0.80      0.70      4099\n",
            "weighted avg       0.88      0.78      0.81      4099\n",
            "\n"
          ]
        }
      ],
      "execution_count": null
    },
    {
      "cell_type": "markdown",
      "source": [
        "## Multinomial NB"
      ],
      "metadata": {
        "tags": [],
        "is_collapsed": false,
        "cell_id": "00028-ebd680a5-c151-4d3f-9497-db903f413d76",
        "deepnote_cell_type": "text-cell-h2",
        "id": "UU-OBGfgQNQl"
      }
    },
    {
      "cell_type": "code",
      "source": [
        "from sklearn.preprocessing import MinMaxScaler\n",
        "\n",
        "scaler = MinMaxScaler()\n",
        "X_train2 = scaler.fit_transform(X_Train)\n",
        "X_test2 = scaler.fit_transform(X_Test)"
      ],
      "metadata": {
        "tags": [],
        "cell_id": "00029-645dcbf1-f28f-43f1-bbcb-035319bcb913",
        "deepnote_to_be_reexecuted": false,
        "source_hash": "64cac717",
        "execution_start": 1639345487091,
        "execution_millis": 86,
        "deepnote_cell_type": "code",
        "id": "jQhfVTglQNQm"
      },
      "outputs": [],
      "execution_count": null
    },
    {
      "cell_type": "code",
      "metadata": {
        "tags": [],
        "deepnote_to_be_reexecuted": false,
        "source_hash": "bdc8a625",
        "cell_id": "00023-cb83f873-9aba-48ae-a589-9bddef20e85e",
        "execution_start": 1639345487219,
        "execution_millis": 4396,
        "deepnote_cell_type": "code",
        "colab": {
          "base_uri": "https://localhost:8080/"
        },
        "id": "E9_f9IKDQNQn",
        "outputId": "b14e6fae-71e7-411d-b53e-fb861434beda"
      },
      "source": [
        "from sklearn.naive_bayes import MultinomialNB\n",
        "model = MultinomialNB()\n",
        "model.fit(X_train2, Y_Train)\n",
        "Y_pred2 = model.predict(X_test2)\n",
        "Y_pred2"
      ],
      "outputs": [
        {
          "output_type": "execute_result",
          "data": {
            "text/plain": [
              "array([1, 1, 1, ..., 1, 1, 1])"
            ]
          },
          "metadata": {},
          "execution_count": 23
        }
      ],
      "execution_count": null
    },
    {
      "cell_type": "code",
      "source": [
        "from sklearn import metrics\n",
        "from sklearn.metrics import accuracy_score\n",
        "from sklearn.metrics import confusion_matrix\n",
        "from sklearn.metrics import classification_report\n",
        "print(\"Hasil Akurasi Multinomial Naive Bayes:\", accuracy_score(Y_Test, Y_pred2)*100, \"%\")\n",
        "print(\"Confusion Matrix\")\n",
        "print(confusion_matrix(Y_Test, Y_pred2))\n",
        "print(\"Classification report\")\n",
        "print(classification_report(Y_Test, Y_pred2))"
      ],
      "metadata": {
        "tags": [],
        "cell_id": "00030-578525ba-f6d0-4bc1-bf6d-71de4cea8d31",
        "deepnote_to_be_reexecuted": true,
        "source_hash": "22b894de",
        "deepnote_cell_type": "code",
        "colab": {
          "base_uri": "https://localhost:8080/"
        },
        "id": "n98oHeeiQNQo",
        "outputId": "b117ebd1-6184-423b-8ce6-a5e5d3952d1d"
      },
      "outputs": [
        {
          "output_type": "stream",
          "name": "stdout",
          "text": [
            "Hasil Akurasi Multinomial Naive Bayes: 84.72798243474018 %\n",
            "Confusion Matrix\n",
            "[[   0  626]\n",
            " [   0 3473]]\n",
            "Classification report\n",
            "              precision    recall  f1-score   support\n",
            "\n",
            "           0       0.00      0.00      0.00       626\n",
            "           1       0.85      1.00      0.92      3473\n",
            "\n",
            "    accuracy                           0.85      4099\n",
            "   macro avg       0.42      0.50      0.46      4099\n",
            "weighted avg       0.72      0.85      0.78      4099\n",
            "\n"
          ]
        },
        {
          "output_type": "stream",
          "name": "stderr",
          "text": [
            "/usr/local/lib/python3.7/dist-packages/sklearn/metrics/_classification.py:1308: UndefinedMetricWarning: Precision and F-score are ill-defined and being set to 0.0 in labels with no predicted samples. Use `zero_division` parameter to control this behavior.\n",
            "  _warn_prf(average, modifier, msg_start, len(result))\n",
            "/usr/local/lib/python3.7/dist-packages/sklearn/metrics/_classification.py:1308: UndefinedMetricWarning: Precision and F-score are ill-defined and being set to 0.0 in labels with no predicted samples. Use `zero_division` parameter to control this behavior.\n",
            "  _warn_prf(average, modifier, msg_start, len(result))\n",
            "/usr/local/lib/python3.7/dist-packages/sklearn/metrics/_classification.py:1308: UndefinedMetricWarning: Precision and F-score are ill-defined and being set to 0.0 in labels with no predicted samples. Use `zero_division` parameter to control this behavior.\n",
            "  _warn_prf(average, modifier, msg_start, len(result))\n"
          ]
        }
      ],
      "execution_count": null
    },
    {
      "cell_type": "markdown",
      "source": [
        "## SVM"
      ],
      "metadata": {
        "tags": [],
        "is_collapsed": false,
        "cell_id": "00032-ec68f7b3-93a7-4c04-b833-e3e71e260974",
        "deepnote_cell_type": "text-cell-h2",
        "id": "dbh8baWSQNQq"
      }
    },
    {
      "cell_type": "code",
      "source": [
        "from sklearn.svm import SVC\n",
        "model = SVC()\n",
        "model.fit(X_Train,Y_Train)\n",
        "Y_pred3 = model.predict(X_Test)\n",
        "Y_pred3"
      ],
      "metadata": {
        "tags": [],
        "cell_id": "00032-eb32f2c4-f1be-4e2d-a04e-4f09e3584d70",
        "deepnote_cell_type": "code",
        "colab": {
          "base_uri": "https://localhost:8080/"
        },
        "id": "vfygz4ZPQNQq",
        "outputId": "8c8f866a-09d5-46b3-e845-52b95321d0b5"
      },
      "outputs": [
        {
          "output_type": "execute_result",
          "data": {
            "text/plain": [
              "array([1, 1, 1, ..., 1, 1, 1])"
            ]
          },
          "metadata": {},
          "execution_count": 25
        }
      ],
      "execution_count": null
    },
    {
      "cell_type": "code",
      "source": [
        "from sklearn import metrics\n",
        "from sklearn.metrics import accuracy_score\n",
        "from sklearn.metrics import confusion_matrix\n",
        "from sklearn.metrics import classification_report\n",
        "print(\"Hasil Akurasi SVM:\", accuracy_score(Y_Test, Y_pred3)*100, \"%\")\n",
        "print(\"Confusion Matrix\")\n",
        "print(confusion_matrix(Y_Test, Y_pred3))\n",
        "print(\"Classification report\")\n",
        "print(classification_report(Y_Test, Y_pred3))"
      ],
      "metadata": {
        "tags": [],
        "cell_id": "00034-455075b6-8fac-4e0d-88ec-791be3f2ad87",
        "deepnote_cell_type": "code",
        "colab": {
          "base_uri": "https://localhost:8080/"
        },
        "id": "CucKMm7tQNQr",
        "outputId": "62ea4cd5-700f-4c58-ebab-ab05fde50def"
      },
      "outputs": [
        {
          "output_type": "stream",
          "name": "stdout",
          "text": [
            "Hasil Akurasi SVM: 91.87606733349597 %\n",
            "Confusion Matrix\n",
            "[[ 366  260]\n",
            " [  73 3400]]\n",
            "Classification report\n",
            "              precision    recall  f1-score   support\n",
            "\n",
            "           0       0.83      0.58      0.69       626\n",
            "           1       0.93      0.98      0.95      3473\n",
            "\n",
            "    accuracy                           0.92      4099\n",
            "   macro avg       0.88      0.78      0.82      4099\n",
            "weighted avg       0.91      0.92      0.91      4099\n",
            "\n"
          ]
        }
      ],
      "execution_count": null
    }
  ],
  "nbformat": 4,
  "nbformat_minor": 0,
  "metadata": {
    "orig_nbformat": 2,
    "deepnote": {
      "is_reactive": false
    },
    "deepnote_notebook_id": "d7cc6b7f-f722-4fc0-861a-361daa5d460a",
    "deepnote_execution_queue": [],
    "colab": {
      "name": "neural(W2V)-NB & SVM.ipynb",
      "provenance": []
    },
    "language_info": {
      "name": "python"
    },
    "kernelspec": {
      "name": "python3",
      "display_name": "Python 3"
    }
  }
}